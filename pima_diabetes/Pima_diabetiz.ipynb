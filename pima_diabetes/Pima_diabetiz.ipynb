{
 "cells": [
  {
   "cell_type": "markdown",
   "metadata": {},
   "source": [
    "## Reading the data"
   ]
  },
  {
   "cell_type": "code",
   "execution_count": 1,
   "metadata": {},
   "outputs": [],
   "source": [
    "import csv\n",
    "import math\n",
    "import random"
   ]
  },
  {
   "cell_type": "code",
   "execution_count": 37,
   "metadata": {},
   "outputs": [],
   "source": [
    "def loadCsvFile(filename):\n",
    "    lines = csv.reader(open(r'/home/hindu/Desktop/python/ml learn/pima_diabetiz/pima-indians-diabetes.csv'))\n",
    "    dataset = list(lines)\n",
    "    for i in range(len(dataset)):\n",
    "        dataset[i]=[float(x) for x in dataset[i]]\n",
    "    return dataset\n"
   ]
  },
  {
   "cell_type": "markdown",
   "metadata": {},
   "source": [
    "## Spliting in train test ratio"
   ]
  },
  {
   "cell_type": "code",
   "execution_count": 38,
   "metadata": {},
   "outputs": [],
   "source": [
    "def splitData(dataset,splitRatio):\n",
    "    trainSize=int(len(dataset)*splitRatio)\n",
    "    trainset=[]\n",
    "    copy=list(dataset)\n",
    "    while len(trainset)<trainSize:\n",
    "        index=random.randrange(len(copy))\n",
    "        trainset.append(copy.pop(index))\n",
    "    return [trainset, copy]\n",
    "\n",
    "# Transet is train set and copy is test set \n",
    "    "
   ]
  },
  {
   "cell_type": "markdown",
   "metadata": {},
   "source": [
    "## Seperate by class "
   ]
  },
  {
   "cell_type": "code",
   "execution_count": 39,
   "metadata": {},
   "outputs": [],
   "source": [
    "def SeperateByClass(dataset):\n",
    "    seperated={}\n",
    "    for i in range(len(dataset)):\n",
    "        vector=dataset[i]\n",
    "        if vector[-1] not in seperated:\n",
    "            seperated[vector[-1]]=[]\n",
    "        seperated[vector[-1]].append(vector)\n",
    "    return seperated"
   ]
  },
  {
   "cell_type": "markdown",
   "metadata": {},
   "source": [
    "## Calculating mean"
   ]
  },
  {
   "cell_type": "code",
   "execution_count": 40,
   "metadata": {},
   "outputs": [],
   "source": [
    "def mean(numbers):\n",
    "    return sum(numbers)/float(len(numbers))"
   ]
  },
  {
   "cell_type": "markdown",
   "metadata": {},
   "source": [
    "## Calculating standard deviation"
   ]
  },
  {
   "cell_type": "code",
   "execution_count": 41,
   "metadata": {},
   "outputs": [],
   "source": [
    "def stddev(numbers):\n",
    "    avg=mean(numbers)\n",
    "    variance=sum([pow((x-avg),2) for x in numbers])/float(len(numbers)-1)\n",
    "    return math.sqrt(variance)"
   ]
  },
  {
   "cell_type": "markdown",
   "metadata": {},
   "source": [
    "## summarize the dataset"
   ]
  },
  {
   "cell_type": "code",
   "execution_count": 42,
   "metadata": {},
   "outputs": [],
   "source": [
    "def summarize(dataset):\n",
    "    summaries=[(mean(attribute),stddev(attribute)) for attribute in zip(*dataset)]\n",
    "    del summaries[-1]\n",
    "    return summaries"
   ]
  },
  {
   "cell_type": "code",
   "execution_count": 43,
   "metadata": {},
   "outputs": [],
   "source": [
    "def summarizeByClass(dataset):\n",
    "    seperated=SeperateByClass(dataset)\n",
    "    summaries={}\n",
    "    for classValue,instances in seperated.items():\n",
    "        summaries[classValue]=summarize(instances)\n",
    "    return summaries\n",
    "        "
   ]
  },
  {
   "cell_type": "markdown",
   "metadata": {},
   "source": [
    "## calculate probability"
   ]
  },
  {
   "cell_type": "code",
   "execution_count": 44,
   "metadata": {},
   "outputs": [],
   "source": [
    "def calculateProbability(x,mean,stddev):\n",
    "    exponent=math.exp(-(math.pow(x-mean,2)/(2*math.pow(stddev,2))))\n",
    "    return (1/(math.sqrt(2*math.pi)*stddev)*exponent)"
   ]
  },
  {
   "cell_type": "code",
   "execution_count": 45,
   "metadata": {},
   "outputs": [],
   "source": [
    "def calculateClassProbability(summaries,inputvector):\n",
    "    probabilities={}\n",
    "    for classvalue,classSummaries in summaries.items():\n",
    "        probabilities[classvalue]=1\n",
    "        for i in range(len(classSummaries)):\n",
    "            mean,stddev=classSummaries[i]\n",
    "            x=inputvector[i]\n",
    "            probabilities[classvalue]*=calculateProbability(x,mean,stddev)\n",
    "        return probabilities\n",
    "            \n",
    "        "
   ]
  },
  {
   "cell_type": "markdown",
   "metadata": {},
   "source": [
    "## Predicting the result"
   ]
  },
  {
   "cell_type": "code",
   "execution_count": 46,
   "metadata": {},
   "outputs": [],
   "source": [
    "def predict(summaries,inputvector):\n",
    "    probabilities=calculateClassProbability(summaries,inputvector)\n",
    "    bestLavel,bestProb=None , -1\n",
    "    for classvalue,probability in probabilities.items():\n",
    "        if bestLavel is None or bestProb<probability:\n",
    "            bestProb=probability\n",
    "            bestLavel=classvalue\n",
    "    return bestLavel"
   ]
  },
  {
   "cell_type": "code",
   "execution_count": 47,
   "metadata": {},
   "outputs": [],
   "source": [
    "def getPrediction(summaries,testset):\n",
    "    predictions=[]\n",
    "    for i in range(len(testset)):\n",
    "        result=predict(summaries,testset[i])\n",
    "        predictions.append(result)\n",
    "    return predictions"
   ]
  },
  {
   "cell_type": "markdown",
   "metadata": {},
   "source": [
    "## calculating accuracy"
   ]
  },
  {
   "cell_type": "code",
   "execution_count": 48,
   "metadata": {},
   "outputs": [],
   "source": [
    "def accuracy(testset,predictions):\n",
    "    correct=0\n",
    "    for i in range(len(testset)):\n",
    "        if testset[i][-1]==predictions[i]:\n",
    "            correct+=1\n",
    "    return (correct/float(len(testset)))*100\n",
    "        "
   ]
  },
  {
   "cell_type": "markdown",
   "metadata": {},
   "source": [
    "## Creating main function"
   ]
  },
  {
   "cell_type": "code",
   "execution_count": 51,
   "metadata": {},
   "outputs": [],
   "source": [
    "def main():\n",
    "    filename='/home/hindu/Desktop/python/ml learn/pima_diabetiz/pima-indians-diabetes.csv'\n",
    "    splitratio=0.70\n",
    "    dataset=loadCsvFile(filename)\n",
    "    trainset,testset=splitData(dataset,splitratio)\n",
    "    print('Split {0} rows into train = {1} and test = {2} rows '.format(len(dataset),len(trainset),len(testset)))\n",
    "    \n",
    "    # Preparing model \n",
    "    summaries=summarizeByClass(trainset)\n",
    "    \n",
    "    # test model \n",
    "    predictions=getPrediction(summaries,testset)\n",
    "    accuracy_final = accuracy(testset,predictions)\n",
    "    print('Accuracy {0} '.format(accuracy_final))"
   ]
  },
  {
   "cell_type": "markdown",
   "metadata": {},
   "source": [
    "## calling the main function"
   ]
  },
  {
   "cell_type": "code",
   "execution_count": 52,
   "metadata": {},
   "outputs": [
    {
     "name": "stdout",
     "output_type": "stream",
     "text": [
      "Split 768 rows into train = 537 and test = 231 rows \n",
      "Accuracy 65.80086580086581 \n"
     ]
    }
   ],
   "source": [
    "main()"
   ]
  },
  {
   "cell_type": "code",
   "execution_count": null,
   "metadata": {},
   "outputs": [],
   "source": []
  }
 ],
 "metadata": {
  "kernelspec": {
   "display_name": "Python 3",
   "language": "python",
   "name": "python3"
  },
  "language_info": {
   "codemirror_mode": {
    "name": "ipython",
    "version": 3
   },
   "file_extension": ".py",
   "mimetype": "text/x-python",
   "name": "python",
   "nbconvert_exporter": "python",
   "pygments_lexer": "ipython3",
   "version": "3.7.3"
  }
 },
 "nbformat": 4,
 "nbformat_minor": 2
}
